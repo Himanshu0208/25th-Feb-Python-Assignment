{
 "cells": [
  {
   "cell_type": "code",
   "execution_count": 3,
   "id": "f574e3d6-390a-4b62-8812-f42e11270082",
   "metadata": {},
   "outputs": [],
   "source": [
    "import pandas as pd"
   ]
  },
  {
   "cell_type": "code",
   "execution_count": 2,
   "id": "db2448ba-9ec8-44e0-9229-673cf83fbe9a",
   "metadata": {},
   "outputs": [],
   "source": [
    "course_name = ['Data Science', 'Machine Learning', 'Big Data', 'Data Engineer']\n",
    "duration = [2,3,6,4]\n",
    "df = pd.DataFrame(data = {'course_name' : course_name, 'duration' : duration})"
   ]
  },
  {
   "cell_type": "code",
   "execution_count": 3,
   "id": "ee5be3ab-1df4-4f06-a797-1f0c0ce08774",
   "metadata": {},
   "outputs": [
    {
     "data": {
      "text/html": [
       "<div>\n",
       "<style scoped>\n",
       "    .dataframe tbody tr th:only-of-type {\n",
       "        vertical-align: middle;\n",
       "    }\n",
       "\n",
       "    .dataframe tbody tr th {\n",
       "        vertical-align: top;\n",
       "    }\n",
       "\n",
       "    .dataframe thead th {\n",
       "        text-align: right;\n",
       "    }\n",
       "</style>\n",
       "<table border=\"1\" class=\"dataframe\">\n",
       "  <thead>\n",
       "    <tr style=\"text-align: right;\">\n",
       "      <th></th>\n",
       "      <th>course_name</th>\n",
       "      <th>duration</th>\n",
       "    </tr>\n",
       "  </thead>\n",
       "  <tbody>\n",
       "    <tr>\n",
       "      <th>0</th>\n",
       "      <td>Data Science</td>\n",
       "      <td>2</td>\n",
       "    </tr>\n",
       "    <tr>\n",
       "      <th>1</th>\n",
       "      <td>Machine Learning</td>\n",
       "      <td>3</td>\n",
       "    </tr>\n",
       "    <tr>\n",
       "      <th>2</th>\n",
       "      <td>Big Data</td>\n",
       "      <td>6</td>\n",
       "    </tr>\n",
       "    <tr>\n",
       "      <th>3</th>\n",
       "      <td>Data Engineer</td>\n",
       "      <td>4</td>\n",
       "    </tr>\n",
       "  </tbody>\n",
       "</table>\n",
       "</div>"
      ],
      "text/plain": [
       "        course_name  duration\n",
       "0      Data Science         2\n",
       "1  Machine Learning         3\n",
       "2          Big Data         6\n",
       "3     Data Engineer         4"
      ]
     },
     "execution_count": 3,
     "metadata": {},
     "output_type": "execute_result"
    }
   ],
   "source": [
    "df"
   ]
  },
  {
   "cell_type": "markdown",
   "id": "f92a61d9-574b-43e3-8526-e73acf3c10bc",
   "metadata": {},
   "source": [
    "## __Ques 1__"
   ]
  },
  {
   "cell_type": "code",
   "execution_count": 4,
   "id": "cda7edc5-de8b-46ad-bddf-b95b2ef17a90",
   "metadata": {},
   "outputs": [
    {
     "data": {
      "text/html": [
       "<div>\n",
       "<style scoped>\n",
       "    .dataframe tbody tr th:only-of-type {\n",
       "        vertical-align: middle;\n",
       "    }\n",
       "\n",
       "    .dataframe tbody tr th {\n",
       "        vertical-align: top;\n",
       "    }\n",
       "\n",
       "    .dataframe thead th {\n",
       "        text-align: right;\n",
       "    }\n",
       "</style>\n",
       "<table border=\"1\" class=\"dataframe\">\n",
       "  <thead>\n",
       "    <tr style=\"text-align: right;\">\n",
       "      <th></th>\n",
       "      <th>course_name</th>\n",
       "      <th>duration</th>\n",
       "    </tr>\n",
       "  </thead>\n",
       "  <tbody>\n",
       "    <tr>\n",
       "      <th>1</th>\n",
       "      <td>Machine Learning</td>\n",
       "      <td>3</td>\n",
       "    </tr>\n",
       "  </tbody>\n",
       "</table>\n",
       "</div>"
      ],
      "text/plain": [
       "        course_name  duration\n",
       "1  Machine Learning         3"
      ]
     },
     "execution_count": 4,
     "metadata": {},
     "output_type": "execute_result"
    }
   ],
   "source": [
    "df[1:2]"
   ]
  },
  {
   "cell_type": "markdown",
   "id": "99a0237c-b85a-4ff1-9124-d09068764d0f",
   "metadata": {},
   "source": [
    "## __Ques 2__\n",
    "1. __iloc :__ Purely integer-location based indexing for selection by position.\n",
    "2. __loc :__ Access a group of rows and columns by label(s) or a boolean array. in this we can use the userdefiend index to access values"
   ]
  },
  {
   "cell_type": "code",
   "execution_count": 5,
   "id": "584d4b3c-64f8-4363-bd2a-81d58a8e42bf",
   "metadata": {},
   "outputs": [
    {
     "data": {
      "text/html": [
       "<div>\n",
       "<style scoped>\n",
       "    .dataframe tbody tr th:only-of-type {\n",
       "        vertical-align: middle;\n",
       "    }\n",
       "\n",
       "    .dataframe tbody tr th {\n",
       "        vertical-align: top;\n",
       "    }\n",
       "\n",
       "    .dataframe thead th {\n",
       "        text-align: right;\n",
       "    }\n",
       "</style>\n",
       "<table border=\"1\" class=\"dataframe\">\n",
       "  <thead>\n",
       "    <tr style=\"text-align: right;\">\n",
       "      <th></th>\n",
       "      <th>course_name</th>\n",
       "      <th>duration</th>\n",
       "    </tr>\n",
       "  </thead>\n",
       "  <tbody>\n",
       "    <tr>\n",
       "      <th>0</th>\n",
       "      <td>Data Science</td>\n",
       "      <td>2</td>\n",
       "    </tr>\n",
       "    <tr>\n",
       "      <th>1</th>\n",
       "      <td>Machine Learning</td>\n",
       "      <td>3</td>\n",
       "    </tr>\n",
       "  </tbody>\n",
       "</table>\n",
       "</div>"
      ],
      "text/plain": [
       "        course_name  duration\n",
       "0      Data Science         2\n",
       "1  Machine Learning         3"
      ]
     },
     "execution_count": 5,
     "metadata": {},
     "output_type": "execute_result"
    }
   ],
   "source": [
    "df.iloc[0:2]"
   ]
  },
  {
   "cell_type": "code",
   "execution_count": 6,
   "id": "9bbf22e2-8099-4429-a2bf-c0cce662de85",
   "metadata": {},
   "outputs": [
    {
     "data": {
      "text/html": [
       "<div>\n",
       "<style scoped>\n",
       "    .dataframe tbody tr th:only-of-type {\n",
       "        vertical-align: middle;\n",
       "    }\n",
       "\n",
       "    .dataframe tbody tr th {\n",
       "        vertical-align: top;\n",
       "    }\n",
       "\n",
       "    .dataframe thead th {\n",
       "        text-align: right;\n",
       "    }\n",
       "</style>\n",
       "<table border=\"1\" class=\"dataframe\">\n",
       "  <thead>\n",
       "    <tr style=\"text-align: right;\">\n",
       "      <th></th>\n",
       "      <th>duration</th>\n",
       "    </tr>\n",
       "    <tr>\n",
       "      <th>course_name</th>\n",
       "      <th></th>\n",
       "    </tr>\n",
       "  </thead>\n",
       "  <tbody>\n",
       "    <tr>\n",
       "      <th>Data Science</th>\n",
       "      <td>2</td>\n",
       "    </tr>\n",
       "    <tr>\n",
       "      <th>Big Data</th>\n",
       "      <td>6</td>\n",
       "    </tr>\n",
       "  </tbody>\n",
       "</table>\n",
       "</div>"
      ],
      "text/plain": [
       "              duration\n",
       "course_name           \n",
       "Data Science         2\n",
       "Big Data             6"
      ]
     },
     "execution_count": 6,
     "metadata": {},
     "output_type": "execute_result"
    }
   ],
   "source": [
    "df.set_index('course_name').loc[['Data Science' , 'Big Data']]"
   ]
  },
  {
   "cell_type": "markdown",
   "id": "1fcb1d6c-70ec-44d8-9644-e89e5e43be47",
   "metadata": {},
   "source": [
    "## __Ques 3__\n",
    "In case of iloc we get teh output based on  teh system indexing i.e,[0,1,2,3] while in case of loc we get the values based on the indexing which was set by us i.e [3,0,1,2]"
   ]
  },
  {
   "cell_type": "code",
   "execution_count": 7,
   "id": "97970596-975e-458f-ab83-11f22ceee829",
   "metadata": {},
   "outputs": [],
   "source": [
    "reindex = [3,0,1,2]"
   ]
  },
  {
   "cell_type": "code",
   "execution_count": 8,
   "id": "0dae072f-5bcf-4d29-8e08-2aa30a6ca7e1",
   "metadata": {},
   "outputs": [],
   "source": [
    "new_df = df.reindex(reindex)"
   ]
  },
  {
   "cell_type": "code",
   "execution_count": 9,
   "id": "912f981a-5345-40c2-9f06-e56b41e937be",
   "metadata": {},
   "outputs": [
    {
     "data": {
      "text/html": [
       "<div>\n",
       "<style scoped>\n",
       "    .dataframe tbody tr th:only-of-type {\n",
       "        vertical-align: middle;\n",
       "    }\n",
       "\n",
       "    .dataframe tbody tr th {\n",
       "        vertical-align: top;\n",
       "    }\n",
       "\n",
       "    .dataframe thead th {\n",
       "        text-align: right;\n",
       "    }\n",
       "</style>\n",
       "<table border=\"1\" class=\"dataframe\">\n",
       "  <thead>\n",
       "    <tr style=\"text-align: right;\">\n",
       "      <th></th>\n",
       "      <th>course_name</th>\n",
       "      <th>duration</th>\n",
       "    </tr>\n",
       "  </thead>\n",
       "  <tbody>\n",
       "    <tr>\n",
       "      <th>3</th>\n",
       "      <td>Data Engineer</td>\n",
       "      <td>4</td>\n",
       "    </tr>\n",
       "    <tr>\n",
       "      <th>0</th>\n",
       "      <td>Data Science</td>\n",
       "      <td>2</td>\n",
       "    </tr>\n",
       "    <tr>\n",
       "      <th>1</th>\n",
       "      <td>Machine Learning</td>\n",
       "      <td>3</td>\n",
       "    </tr>\n",
       "    <tr>\n",
       "      <th>2</th>\n",
       "      <td>Big Data</td>\n",
       "      <td>6</td>\n",
       "    </tr>\n",
       "  </tbody>\n",
       "</table>\n",
       "</div>"
      ],
      "text/plain": [
       "        course_name  duration\n",
       "3     Data Engineer         4\n",
       "0      Data Science         2\n",
       "1  Machine Learning         3\n",
       "2          Big Data         6"
      ]
     },
     "execution_count": 9,
     "metadata": {},
     "output_type": "execute_result"
    }
   ],
   "source": [
    "new_df"
   ]
  },
  {
   "cell_type": "code",
   "execution_count": 10,
   "id": "108b9f8c-4f5b-466f-8348-aeb004e8d3d5",
   "metadata": {},
   "outputs": [
    {
     "data": {
      "text/plain": [
       "course_name    Big Data\n",
       "duration              6\n",
       "Name: 2, dtype: object"
      ]
     },
     "execution_count": 10,
     "metadata": {},
     "output_type": "execute_result"
    }
   ],
   "source": [
    "new_df.loc[2]"
   ]
  },
  {
   "cell_type": "code",
   "execution_count": 11,
   "id": "47c8d3e1-f5dd-4100-a49c-47b483cfcf42",
   "metadata": {},
   "outputs": [
    {
     "data": {
      "text/plain": [
       "course_name    Machine Learning\n",
       "duration                      3\n",
       "Name: 1, dtype: object"
      ]
     },
     "execution_count": 11,
     "metadata": {},
     "output_type": "execute_result"
    }
   ],
   "source": [
    "new_df.iloc[2]"
   ]
  },
  {
   "cell_type": "markdown",
   "id": "2805bd7a-869b-4854-8881-452babce3d85",
   "metadata": {},
   "source": [
    "## __Ques 4__"
   ]
  },
  {
   "cell_type": "code",
   "execution_count": 12,
   "id": "3dfa24e2-9582-4fee-a715-a6dc9ad4ef1e",
   "metadata": {},
   "outputs": [],
   "source": [
    "import pandas as pd\n",
    "import numpy as np\n",
    "columns = ['column_1', 'column_2', 'column_3', 'column_4', 'column_5', 'column_6']\n",
    "indices = [1,2,3,4,5,6]\n",
    "#Creating a dataframe:\n",
    "df1 = pd.DataFrame(np.random.rand(6,6), columns = columns, index = indices)"
   ]
  },
  {
   "cell_type": "code",
   "execution_count": 13,
   "id": "6077f2f6-169b-4451-a3c4-0effd03a9d3b",
   "metadata": {},
   "outputs": [
    {
     "data": {
      "text/html": [
       "<div>\n",
       "<style scoped>\n",
       "    .dataframe tbody tr th:only-of-type {\n",
       "        vertical-align: middle;\n",
       "    }\n",
       "\n",
       "    .dataframe tbody tr th {\n",
       "        vertical-align: top;\n",
       "    }\n",
       "\n",
       "    .dataframe thead th {\n",
       "        text-align: right;\n",
       "    }\n",
       "</style>\n",
       "<table border=\"1\" class=\"dataframe\">\n",
       "  <thead>\n",
       "    <tr style=\"text-align: right;\">\n",
       "      <th></th>\n",
       "      <th>column_1</th>\n",
       "      <th>column_2</th>\n",
       "      <th>column_3</th>\n",
       "      <th>column_4</th>\n",
       "      <th>column_5</th>\n",
       "      <th>column_6</th>\n",
       "    </tr>\n",
       "  </thead>\n",
       "  <tbody>\n",
       "    <tr>\n",
       "      <th>1</th>\n",
       "      <td>0.477915</td>\n",
       "      <td>0.905847</td>\n",
       "      <td>0.579838</td>\n",
       "      <td>0.655549</td>\n",
       "      <td>0.148303</td>\n",
       "      <td>0.183445</td>\n",
       "    </tr>\n",
       "    <tr>\n",
       "      <th>2</th>\n",
       "      <td>0.174490</td>\n",
       "      <td>0.982486</td>\n",
       "      <td>0.759382</td>\n",
       "      <td>0.209103</td>\n",
       "      <td>0.636984</td>\n",
       "      <td>0.954263</td>\n",
       "    </tr>\n",
       "    <tr>\n",
       "      <th>3</th>\n",
       "      <td>0.852219</td>\n",
       "      <td>0.898829</td>\n",
       "      <td>0.086709</td>\n",
       "      <td>0.948805</td>\n",
       "      <td>0.391231</td>\n",
       "      <td>0.374484</td>\n",
       "    </tr>\n",
       "    <tr>\n",
       "      <th>4</th>\n",
       "      <td>0.586546</td>\n",
       "      <td>0.148686</td>\n",
       "      <td>0.222922</td>\n",
       "      <td>0.584657</td>\n",
       "      <td>0.015097</td>\n",
       "      <td>0.732804</td>\n",
       "    </tr>\n",
       "    <tr>\n",
       "      <th>5</th>\n",
       "      <td>0.187478</td>\n",
       "      <td>0.817470</td>\n",
       "      <td>0.355417</td>\n",
       "      <td>0.458697</td>\n",
       "      <td>0.616829</td>\n",
       "      <td>0.205684</td>\n",
       "    </tr>\n",
       "    <tr>\n",
       "      <th>6</th>\n",
       "      <td>0.462904</td>\n",
       "      <td>0.512937</td>\n",
       "      <td>0.801720</td>\n",
       "      <td>0.725344</td>\n",
       "      <td>0.777779</td>\n",
       "      <td>0.207575</td>\n",
       "    </tr>\n",
       "  </tbody>\n",
       "</table>\n",
       "</div>"
      ],
      "text/plain": [
       "   column_1  column_2  column_3  column_4  column_5  column_6\n",
       "1  0.477915  0.905847  0.579838  0.655549  0.148303  0.183445\n",
       "2  0.174490  0.982486  0.759382  0.209103  0.636984  0.954263\n",
       "3  0.852219  0.898829  0.086709  0.948805  0.391231  0.374484\n",
       "4  0.586546  0.148686  0.222922  0.584657  0.015097  0.732804\n",
       "5  0.187478  0.817470  0.355417  0.458697  0.616829  0.205684\n",
       "6  0.462904  0.512937  0.801720  0.725344  0.777779  0.207575"
      ]
     },
     "execution_count": 13,
     "metadata": {},
     "output_type": "execute_result"
    }
   ],
   "source": [
    "df1"
   ]
  },
  {
   "cell_type": "code",
   "execution_count": 14,
   "id": "9ef7c013-7822-46af-8299-fca3872981d4",
   "metadata": {},
   "outputs": [
    {
     "data": {
      "text/plain": [
       "column_1    0.456925\n",
       "column_2    0.711043\n",
       "column_3    0.467665\n",
       "column_4    0.597026\n",
       "column_5    0.431037\n",
       "column_6    0.443043\n",
       "dtype: float64"
      ]
     },
     "execution_count": 14,
     "metadata": {},
     "output_type": "execute_result"
    }
   ],
   "source": [
    "df1.mean()"
   ]
  },
  {
   "cell_type": "code",
   "execution_count": 15,
   "id": "2e6cfb41-2b64-4ed3-80c5-5ab8fac5a96a",
   "metadata": {},
   "outputs": [
    {
     "data": {
      "text/plain": [
       "0.3205345533816912"
      ]
     },
     "execution_count": 15,
     "metadata": {},
     "output_type": "execute_result"
    }
   ],
   "source": [
    "df1['column_2'].std()"
   ]
  },
  {
   "cell_type": "markdown",
   "id": "247378d6-8421-40c6-8186-40eb5cdc589f",
   "metadata": {},
   "source": [
    "## __Ques 5__\n",
    "we are getting this error because formual of mean is (sum of all observation)/(total no. of observation) as of now there is string in this data set hence it will through a type error in adding ans str to float and if all data was str even then through and error as str + str = str and str / number is an error as we can't divide an str by an number"
   ]
  },
  {
   "cell_type": "code",
   "execution_count": 16,
   "id": "04ecdf84-0a15-4548-ab7b-cf1b55fe2e95",
   "metadata": {},
   "outputs": [],
   "source": [
    "df1['column_2'].loc[2] = 'Jhon'"
   ]
  },
  {
   "cell_type": "code",
   "execution_count": 17,
   "id": "c48bb7b6-0aa4-4d16-b2a9-152a7db5c67c",
   "metadata": {},
   "outputs": [
    {
     "name": "stdout",
     "output_type": "stream",
     "text": [
      "unsupported operand type(s) for +: 'float' and 'str'\n"
     ]
    }
   ],
   "source": [
    "try :\n",
    "    df1['column_2'].mean()\n",
    "except TypeError as e:\n",
    "    print(e)"
   ]
  },
  {
   "cell_type": "markdown",
   "id": "d8550ad6-af7e-4ae1-b31b-3bb2b914d08c",
   "metadata": {},
   "source": [
    "## __Ques 6__\n",
    "In Pandas, the window function is used to perform calculations on a rolling window of data points in a time series or a DataFrame. The rolling window is a fixed-size moving window that slides over the data frame or series, and the function is applied to the data within the window."
   ]
  },
  {
   "cell_type": "code",
   "execution_count": 18,
   "id": "73f85a4c-cb7b-46b1-b08f-dfaa174b4d70",
   "metadata": {},
   "outputs": [
    {
     "data": {
      "text/plain": [
       "1         NaN\n",
       "2    0.326203\n",
       "3    0.513355\n",
       "4    0.719383\n",
       "5    0.387012\n",
       "6    0.325191\n",
       "Name: column_1, dtype: float64"
      ]
     },
     "execution_count": 18,
     "metadata": {},
     "output_type": "execute_result"
    }
   ],
   "source": [
    "# Now it will give mean of two data in the column\n",
    "df1['column_1'].rolling(window=2).mean()"
   ]
  },
  {
   "cell_type": "code",
   "execution_count": 19,
   "id": "906d613e-3479-45f5-a5ee-b848d60fa39c",
   "metadata": {},
   "outputs": [
    {
     "data": {
      "text/plain": [
       "1         NaN\n",
       "2    0.477915\n",
       "3    0.852219\n",
       "4    0.852219\n",
       "5    0.586546\n",
       "6    0.462904\n",
       "Name: column_1, dtype: float64"
      ]
     },
     "execution_count": 19,
     "metadata": {},
     "output_type": "execute_result"
    }
   ],
   "source": [
    "# Now it will give max of two data in the column\n",
    "df1['column_1'].rolling(window=2).max()"
   ]
  },
  {
   "cell_type": "code",
   "execution_count": 20,
   "id": "051bb8a1-5049-4a88-b637-56e3c9657887",
   "metadata": {},
   "outputs": [
    {
     "data": {
      "text/plain": [
       "1         NaN\n",
       "2    0.174490\n",
       "3    0.174490\n",
       "4    0.586546\n",
       "5    0.187478\n",
       "6    0.187478\n",
       "Name: column_1, dtype: float64"
      ]
     },
     "execution_count": 20,
     "metadata": {},
     "output_type": "execute_result"
    }
   ],
   "source": [
    "# Now it will give min of two data in the column\n",
    "df1['column_1'].rolling(window=2).min()"
   ]
  },
  {
   "cell_type": "markdown",
   "id": "087ab0ae-7ab6-4c8c-8f1e-8dd8a3c8c303",
   "metadata": {},
   "source": [
    "## __Ques 7__\n",
    "i had checked on teh net and fond that pandas.datetime function is deprecated now"
   ]
  },
  {
   "cell_type": "code",
   "execution_count": 21,
   "id": "f11a49aa-5681-4c5c-b60a-129d35708889",
   "metadata": {},
   "outputs": [
    {
     "name": "stdout",
     "output_type": "stream",
     "text": [
      "Current month: 3\n",
      "Current year: 2023\n"
     ]
    }
   ],
   "source": [
    "import datetime\n",
    "\n",
    "now = datetime.datetime.now()\n",
    "current_month = now.month\n",
    "current_year = now.year\n",
    "\n",
    "print(\"Current month:\", current_month)\n",
    "print(\"Current year:\", current_year)\n"
   ]
  },
  {
   "cell_type": "markdown",
   "id": "a6fb6f19-c569-4631-9eca-3ebbc26db9c5",
   "metadata": {},
   "source": [
    "## __Ques 8__"
   ]
  },
  {
   "cell_type": "code",
   "execution_count": 22,
   "id": "b6d352c2-fc9b-4f9e-873c-89f8e6460efa",
   "metadata": {},
   "outputs": [
    {
     "name": "stdin",
     "output_type": "stream",
     "text": [
      "enter date in YYYYMMDD 20121211\n"
     ]
    },
    {
     "name": "stdout",
     "output_type": "stream",
     "text": [
      "Date inputed is 20121211\n",
      "2012-12-11\n"
     ]
    },
    {
     "data": {
      "text/plain": [
       "Timestamp('2012-12-11 00:00:00')"
      ]
     },
     "execution_count": 22,
     "metadata": {},
     "output_type": "execute_result"
    }
   ],
   "source": [
    "s = input('enter date in YYYYMMDD')\n",
    "print('Date inputed is' , s)\n",
    "s = s[0:4] + '-' + s[4:6] + '-' + s[6:8]\n",
    "print(s)\n",
    "d1 = pd.to_datetime(s)\n",
    "d1"
   ]
  },
  {
   "cell_type": "code",
   "execution_count": 23,
   "id": "bf6b11a8-31da-44b7-9437-1626fd62ed8f",
   "metadata": {
    "tags": []
   },
   "outputs": [
    {
     "name": "stdin",
     "output_type": "stream",
     "text": [
      "enter date in YYYYMMDD 20121212\n"
     ]
    },
    {
     "name": "stdout",
     "output_type": "stream",
     "text": [
      "Date inputed is 20121212\n",
      "2012-12-12\n"
     ]
    },
    {
     "data": {
      "text/plain": [
       "Timestamp('2012-12-12 00:00:00')"
      ]
     },
     "execution_count": 23,
     "metadata": {},
     "output_type": "execute_result"
    }
   ],
   "source": [
    "s = input('enter date in YYYYMMDD')\n",
    "print('Date inputed is' , s)\n",
    "s = s[0:4] + '-' + s[4:6] + '-' + s[6:8]\n",
    "print(s)\n",
    "d2 = pd.to_datetime(s)\n",
    "d2"
   ]
  },
  {
   "cell_type": "code",
   "execution_count": 26,
   "id": "20b15a5d-0d5d-45de-9549-17315d982159",
   "metadata": {
    "tags": []
   },
   "outputs": [
    {
     "data": {
      "text/plain": [
       "Timedelta('1 days 00:00:00')"
      ]
     },
     "execution_count": 26,
     "metadata": {},
     "output_type": "execute_result"
    }
   ],
   "source": [
    "pd.Timedelta(days=d2.day - d1.day , hours=d2.hour-d1.hour , minutes=d1.minute-d2.minute)"
   ]
  },
  {
   "cell_type": "markdown",
   "id": "ac61cb14-8ace-4934-89de-09f59d565fe0",
   "metadata": {},
   "source": [
    "## __Ques 9__"
   ]
  },
  {
   "cell_type": "code",
   "execution_count": 47,
   "id": "da888e47-f9fa-4c1b-9a7a-88c62c928e93",
   "metadata": {},
   "outputs": [
    {
     "name": "stdin",
     "output_type": "stream",
     "text": [
      "Enter the path of teh csv file 9.csv\n"
     ]
    },
    {
     "name": "stdout",
     "output_type": "stream",
     "text": [
      "Path entered 9.csv\n",
      "       Name Country\n",
      "0  Himanshu   India\n",
      "1      Jhon     USA\n",
      "2     Alakh   India\n",
      "3      Sara   Canda\n"
     ]
    },
    {
     "name": "stdin",
     "output_type": "stream",
     "text": [
      "The column you want to apply categorical Country\n"
     ]
    },
    {
     "name": "stdout",
     "output_type": "stream",
     "text": [
      "Category Entered Country\n"
     ]
    },
    {
     "name": "stdin",
     "output_type": "stream",
     "text": [
      "Enter the categories India USA\n"
     ]
    },
    {
     "name": "stdout",
     "output_type": "stream",
     "text": [
      "['India', 'USA', 'India', NaN]\n",
      "Categories (2, object): ['India', 'USA']\n"
     ]
    }
   ],
   "source": [
    "path = input('Enter the path of teh csv file')\n",
    "print('Path entered' , path)\n",
    "df = pd.read_csv(path)\n",
    "print(df)\n",
    "\n",
    "col = input('The column you want to apply categorical')\n",
    "print('Category Entered' , col)\n",
    "\n",
    "categories = [i for i in input('Enter the categories').split()]\n",
    "cat = pd.Categorical(list(df[col]),categories=categories)\n",
    "print(cat)"
   ]
  },
  {
   "cell_type": "markdown",
   "id": "c50d06f5-a926-471d-8fad-653ff7d1f4f7",
   "metadata": {},
   "source": [
    "## __Ques 10__"
   ]
  },
  {
   "cell_type": "code",
   "execution_count": 51,
   "id": "75eb9b66-e866-48b3-b1bc-1221ba450098",
   "metadata": {},
   "outputs": [
    {
     "name": "stdin",
     "output_type": "stream",
     "text": [
      "Enter file path:  10.csv\n"
     ]
    },
    {
     "data": {
      "image/png": "[encoded data removed]",
      "text/plain": [
       "<Figure size 640x480 with 1 Axes>"
      ]
     },
     "metadata": {},
     "output_type": "display_data"
    }
   ],
   "source": [
    "import pandas as pd\n",
    "import matplotlib.pyplot as plt\n",
    "\n",
    "# Prompt user to enter file path\n",
    "file_path = input(\"Enter file path: \")\n",
    "\n",
    "# Read CSV file into Pandas DataFrame\n",
    "df = pd.read_csv(file_path)\n",
    "\n",
    "# Pivot DataFrame to get total sales for each product category by month\n",
    "sales_by_month = df.pivot_table(values='Sales', index='Month', aggfunc='sum')\n",
    "\n",
    "# Create stacked bar chart\n",
    "sales_by_month.plot(kind='bar', stacked=True)\n",
    "\n",
    "# Add chart title and axis labels\n",
    "plt.title('Sales by Product Category')\n",
    "plt.xlabel('Month')\n",
    "plt.ylabel('Sales')\n",
    "\n",
    "# Show chart\n",
    "plt.show()"
   ]
  },
  {
   "cell_type": "code",
   "execution_count": null,
   "id": "cab02a4a-30e4-4a44-8964-11d56e1e0865",
   "metadata": {},
   "outputs": [],
   "source": []
  },
  {
   "cell_type": "markdown",
   "id": "ba9cefad-57f7-48c0-b1ae-26e0d226f4c6",
   "metadata": {},
   "source": [
    "## __Ques 11__"
   ]
  },
  {
   "cell_type": "code",
   "execution_count": 34,
   "id": "41331f15-cad1-4483-8c8e-909e29c6a5fc",
   "metadata": {},
   "outputs": [
    {
     "name": "stdin",
     "output_type": "stream",
     "text": [
      "Enter the path of teh csv file 11.csv\n"
     ]
    },
    {
     "name": "stdout",
     "output_type": "stream",
     "text": [
      "Path entered 11.csv\n",
      "                                            Values\n",
      "Statitical                                        \n",
      "mean                                          83.5\n",
      "median                                        85.0\n",
      "mode        0    85\n",
      "Name: Test Score, dtype: int64\n"
     ]
    }
   ],
   "source": [
    "path = input('Enter the path of teh csv file')\n",
    "print('Path entered' , path)\n",
    "df = pd.read_csv(path)\n",
    "data = {\n",
    "    \"Statitical\" : ['mean',\"median\",\"mode\"],\n",
    "    \"Values\" : [df['Test Score'].mean(),df['Test Score'].median(),df['Test Score'].mode()]\n",
    "}\n",
    "df1 = pd.DataFrame(data)\n",
    "df1.set_index('Statitical' , inplace=True)\n",
    "print(df1)"
   ]
  },
  {
   "cell_type": "code",
   "execution_count": null,
   "id": "3c5dba42-c29a-4b1b-91ab-b7ffb5c39f60",
   "metadata": {},
   "outputs": [],
   "source": []
  }
 ],
 "metadata": {
  "kernelspec": {
   "display_name": "Python 3 (ipykernel)",
   "language": "python",
   "name": "python3"
  },
  "language_info": {
   "codemirror_mode": {
    "name": "ipython",
    "version": 3
   },
   "file_extension": ".py",
   "mimetype": "text/x-python",
   "name": "python",
   "nbconvert_exporter": "python",
   "pygments_lexer": "ipython3",
   "version": "3.10.8"
  }
 },
 "nbformat": 4,
 "nbformat_minor": 5
}
